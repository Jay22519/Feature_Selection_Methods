{
 "cells": [
  {
   "cell_type": "markdown",
   "metadata": {},
   "source": [
    "Univariate Selection Methods work by selecting the best features from a given data based on some statistical methods <br>\n",
    "\n",
    "4 methods comes under this catgory - > <br>\n",
    "1) SelectKbest <br>\n",
    "2) Select Percentile <br>\n",
    "3) Select Fpr , Fdr or family wise select Fwe <br>\n",
    "4) Generic Univariate Selection "
   ]
  },
  {
   "cell_type": "code",
   "execution_count": 1,
   "metadata": {},
   "outputs": [],
   "source": [
    "import numpy as np \n",
    "import pandas as pd \n",
    "import matplotlib.pyplot as plt \n",
    "import seaborn as sns \n",
    "%matplotlib inline "
   ]
  },
  {
   "cell_type": "code",
   "execution_count": 8,
   "metadata": {},
   "outputs": [],
   "source": [
    "data = pd.read_csv('train.csv') \n",
    "y = data['TARGET']\n",
    "X = data.drop(['TARGET'],axis = 1) "
   ]
  },
  {
   "cell_type": "markdown",
   "metadata": {},
   "source": [
    "## 1) Select K Best "
   ]
  },
  {
   "cell_type": "code",
   "execution_count": 3,
   "metadata": {},
   "outputs": [],
   "source": [
    "from sklearn.feature_selection import chi2 ,SelectKBest "
   ]
  },
  {
   "cell_type": "code",
   "execution_count": 6,
   "metadata": {},
   "outputs": [
    {
     "name": "stderr",
     "output_type": "stream",
     "text": [
      "C:\\Users\\HP\\Anaconda3\\lib\\site-packages\\sklearn\\feature_selection\\univariate_selection.py:114: UserWarning: Features [ 22  23  57  58  59  60  81  85  86 132 133 134 135 156 162 163 180 181\n",
      " 190 193 221 223 235 239 245 249 262 263 304 308 316 320 328 350] are constant.\n",
      "  UserWarning)\n",
      "C:\\Users\\HP\\Anaconda3\\lib\\site-packages\\sklearn\\feature_selection\\univariate_selection.py:115: RuntimeWarning: invalid value encountered in true_divide\n",
      "  f = msb / msw\n"
     ]
    }
   ],
   "source": [
    "data_new = SelectKBest(k = 150).fit_transform(X,y)"
   ]
  },
  {
   "cell_type": "code",
   "execution_count": 7,
   "metadata": {},
   "outputs": [
    {
     "data": {
      "text/plain": [
       "(76020, 150)"
      ]
     },
     "execution_count": 7,
     "metadata": {},
     "output_type": "execute_result"
    }
   ],
   "source": [
    "data_new.shape "
   ]
  },
  {
   "cell_type": "markdown",
   "metadata": {},
   "source": [
    "Now if you hit tab + shift , in SelectKBest , you'll see that by defualt the function for scoring is  \"select_f_classif\" <br>\n",
    "\n",
    "But you can also use chi2 test (but it works only on non-negative values)  <br>\n",
    "Also we can use other statistical methods (we'll discuss later) like MI gain , ANOVA , F-test and pass them as a function to score and choose best K features "
   ]
  },
  {
   "cell_type": "markdown",
   "metadata": {},
   "source": [
    "## 2) Select Percentile  "
   ]
  },
  {
   "cell_type": "code",
   "execution_count": 13,
   "metadata": {},
   "outputs": [
    {
     "data": {
      "text/plain": [
       "array([0, 1, 2, ..., 8, 9, 8])"
      ]
     },
     "execution_count": 13,
     "metadata": {},
     "output_type": "execute_result"
    }
   ],
   "source": [
    "from sklearn.datasets import load_digits\n",
    "from sklearn.feature_selection import SelectPercentile, chi2 ,S\n",
    "X, y = load_digits(return_X_y=True)\n",
    "y"
   ]
  },
  {
   "cell_type": "code",
   "execution_count": 14,
   "metadata": {},
   "outputs": [
    {
     "data": {
      "text/plain": [
       "((1797, 64), (1797,))"
      ]
     },
     "execution_count": 14,
     "metadata": {},
     "output_type": "execute_result"
    }
   ],
   "source": [
    "X.shape , y.shape "
   ]
  },
  {
   "cell_type": "code",
   "execution_count": 15,
   "metadata": {},
   "outputs": [
    {
     "data": {
      "text/plain": [
       "(1797, 7)"
      ]
     },
     "execution_count": 15,
     "metadata": {},
     "output_type": "execute_result"
    }
   ],
   "source": [
    "X_new = SelectPercentile(chi2, percentile=10).fit_transform(X, y)\n",
    "X_new.shape"
   ]
  },
  {
   "cell_type": "code",
   "execution_count": null,
   "metadata": {},
   "outputs": [],
   "source": []
  },
  {
   "cell_type": "markdown",
   "metadata": {},
   "source": [
    "Both this methods take some scoring function as input and the data to be processed and returns the scores and p-values (or sometimes just the scores ) \n",
    "<br>\n",
    "<br>\n",
    "\n",
    "For Regression Task -> f_regression , mutual_info_regression \n",
    "<br>\n",
    "For Classification Task -> chi2, f_classif , mutual_info_classif "
   ]
  },
  {
   "cell_type": "markdown",
   "metadata": {},
   "source": [
    "<br>\n",
    "<br>\n",
    "\n",
    "Now we are going to see 3 more univariate Feature Select <br>\n",
    "\n",
    "1) SelectFpr -> Select False Positive Rate <br>\n",
    "2) SelectFdr -> Select False discovery rate <br>\n",
    "3) SelectFwr -> Select False wise error rate "
   ]
  },
  {
   "cell_type": "markdown",
   "metadata": {},
   "source": [
    "<br><br>\n",
    "#### False Positive Rate [Fpr]  \n",
    "<br>\n",
    "It is probability of falsely rejecting null hypothesis \n",
    "<br>\n",
    "<br>\n",
    "\n",
    "#### False Discovery Rate [Fdr] \n",
    "<br>\n",
    "It is expected rate of false rejection from all discoveries ,i.e , all rejected hypothesis \n",
    "<br>\n",
    "<br>\n",
    "\n",
    "#### False wise error rate \n",
    "<br>\n",
    "Probability of incurring atleast one false positive among all discoveries "
   ]
  },
  {
   "cell_type": "markdown",
   "metadata": {},
   "source": [
    "###  I'm unable to understand the concept of above 3 . Will have to understand the concept of NULL Hypothesis , p-values and correlation of features because Fpr,Fdr and Fwe are all based on this "
   ]
  },
  {
   "cell_type": "code",
   "execution_count": null,
   "metadata": {},
   "outputs": [],
   "source": []
  },
  {
   "cell_type": "code",
   "execution_count": null,
   "metadata": {},
   "outputs": [],
   "source": []
  },
  {
   "cell_type": "code",
   "execution_count": null,
   "metadata": {},
   "outputs": [],
   "source": []
  },
  {
   "cell_type": "code",
   "execution_count": null,
   "metadata": {},
   "outputs": [],
   "source": []
  },
  {
   "cell_type": "code",
   "execution_count": null,
   "metadata": {},
   "outputs": [],
   "source": []
  }
 ],
 "metadata": {
  "kernelspec": {
   "display_name": "Python 3",
   "language": "python",
   "name": "python3"
  },
  "language_info": {
   "codemirror_mode": {
    "name": "ipython",
    "version": 3
   },
   "file_extension": ".py",
   "mimetype": "text/x-python",
   "name": "python",
   "nbconvert_exporter": "python",
   "pygments_lexer": "ipython3",
   "version": "3.7.4"
  }
 },
 "nbformat": 4,
 "nbformat_minor": 2
}
